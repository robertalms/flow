{
 "cells": [
  {
   "cell_type": "markdown",
   "metadata": {},
   "source": [
    "# Tutorial 11: Traffic Lights"
   ]
  },
  {
   "cell_type": "markdown",
   "metadata": {
    "collapsed": true
   },
   "source": [
    "This tutorial walks through how to add traffic lights to experiments. This tutorial will use the following files:\n",
    "\n",
    "* Experiment script for RL: `examples/rllab/green_wave.py`\n",
    "* Experiment script for non-RL: `examples/sumo/grid.py`\n",
    "* Scenario: `grid.py` (class SimpleGridScenario)\n",
    "* Environment for RL: `green_wave_env.py` (class TrafficLightGridEnv)\n",
    "* Environment for non-RL: `loop_accel.py` (class AccelEnv)\n",
    "\n",
    "There are two main classes of traffic lights that Sumo supports: actuated and static traffic lights. This tutorial will cover both types. Over the course of this tutorial, we'll discuss 4 different types of traffic lights to introduce into your road network: \n",
    "\n",
    "1. Static Traffic Lights\n",
    "2. Actuated (baseline) Traffic Lights\n",
    "3. Actuated Traffic Lights\n",
    "4. RL Traffic Lights\n",
    "\n",
    "Let's begin!\n",
    "\n",
    "First, import all necessary classes. "
   ]
  },
  {
   "cell_type": "code",
   "execution_count": null,
   "metadata": {},
   "outputs": [],
   "source": [
    "from flow.core.params import NetParams\n",
    "from flow.scenarios.grid import SimpleGridScenario\n",
    "from flow.core.params import TrafficLightParams\n",
    "from flow.core.params import SumoParams, EnvParams, InitialConfig, NetParams, \\\n",
    "    InFlows, SumoCarFollowingParams\n",
    "from flow.core.params import VehicleParams\n",
    "import numpy as np"
   ]
  },
  {
   "cell_type": "markdown",
   "metadata": {},
   "source": [
    "## 1. New parameters in `additional_net_params`"
   ]
  },
  {
   "cell_type": "markdown",
   "metadata": {},
   "source": [
    "There are a few unique additions for the grid envs to `additional_net_params` to be aware of. \n",
    "\n",
    "#### grid_array\n",
    "`grid_array` passes information on the road network to the scenario, specifying the parameters you see above: `row_num`, `col_num`, `inner_length`, `short_length`, `long_length`, `cars_top`, `cars_bot`, `cars_left`, `cars_right`. This is required for any grid experiment.\n",
    "\n",
    "\n",
    "#### tl_logic\n",
    "`tl_logic` should be used for users who want to exert more control over individual traffic lights. `tl_logic` simply tells the env whether the traffic lights are controlled by RL or whether a default pattern or sumo actuation is to be used. Use \"actuated\" if you want SUMO to control the traffic lights. \n",
    "\n",
    "For this tutorial, we will assume the following parameters for the `grid_array`, which specifies a grid network with 2 rows and 3 columns. `traffic_lights` should be set to `True` for every experiment in this tutorial."
   ]
  },
  {
   "cell_type": "code",
   "execution_count": null,
   "metadata": {},
   "outputs": [],
   "source": [
    "inner_length = 300\n",
    "long_length = 500\n",
    "short_length = 300\n",
    "n = 2 # rows\n",
    "m = 3 # columns\n",
    "num_cars_left = 20\n",
    "num_cars_right = 20\n",
    "num_cars_top = 20\n",
    "num_cars_bot = 20\n",
    "tot_cars = (num_cars_left + num_cars_right) * m \\\n",
    "    + (num_cars_top + num_cars_bot) * n\n",
    "\n",
    "grid_array = {\"short_length\": short_length, \"inner_length\": inner_length,\n",
    "              \"long_length\": long_length, \"row_num\": n, \"col_num\": m,\n",
    "              \"cars_left\": num_cars_left, \"cars_right\": num_cars_right,\n",
    "              \"cars_top\": num_cars_top, \"cars_bot\": num_cars_bot}"
   ]
  },
  {
   "cell_type": "markdown",
   "metadata": {},
   "source": [
    "## 2. Defining Traffic Light Phases \n",
    "\n",
    "\n",
    "To start off, we define how Sumo represents traffic light phases. A phase is defined as the states that the traffic lights around an intersection can take. The typical four-way, traffic-light-controlled intersection is modeled by a string of length 12. Consider the phase \"GrGr\". Every letter in this phase string (\"G\", \"r\", \"G\", \"r\") corresponds to an edge in the intersection, in clockwise order. Explicitly, the northern and southern edges of the intersection both have a state of \"G\", where the eastern and western edges of the intersection both have a state of \"r\". \n",
    "\n",
    "Sumo traffic lights are initiated to a default set of phases, and will not deviate from the phases provided in their configuration files. We will describe in this section how to define custom phases for traffic lights.\n",
    "\n",
    "NOTE: If the API is used at any point to modify the traffic light state, i.e. functions such as `setRedYellowGreenState`, this will override the traffic light's default phase.\n",
    "\n",
    "To do anything with traffic lights, you should interface with Flow's `TrafficLightParams` class"
   ]
  },
  {
   "cell_type": "markdown",
   "metadata": {},
   "source": [
    "Once the TrafficLightParams class is instantiated, traffic lights can be added via the classes' `add` function. One prerequisite of using this function is knowing the node id of any node you intend to manipulate. This information is baked into the experiment's scenario class, as well as the experiment's nod.xml file. For the experiment we are using with 2 rows and 3 columns, there are 6 nodes: \"center0\" to \"center5\".\n",
    "\n",
    "In this particular example, each of the 6 traffic light nodes corresponds to the same set of possible phases; in other words, at any time, each node will be at the same phase. You can, however, customize each traffic light node to have different phases."
   ]
  },
  {
   "cell_type": "code",
   "execution_count": null,
   "metadata": {},
   "outputs": [],
   "source": [
    "tl_logic = TrafficLightParams()\n",
    "\n",
    "nodes = [\"center0\", \"center1\", \"center2\", \"center3\", \"center4\", \"center5\"]\n",
    "phases = [{\"duration\": \"31\", \"state\": \"GrGr\"},\n",
    "          {\"duration\": \"6\", \"state\": \"yryr\"},\n",
    "          {\"duration\": \"31\", \"state\": \"rGrG\"},\n",
    "          {\"duration\": \"6\", \"state\": \"ryry\"}]\n",
    "for node_id in nodes:\n",
    "    tl_logic.add(node_id, tls_type=\"static\", programID=\"1\", offset=None, phases=phases)"
   ]
  },
  {
   "cell_type": "markdown",
   "metadata": {},
   "source": [
    "Following this step, the TrafficLightParams class should be passed into your scenario as element `traffic_lights`."
   ]
  },
  {
   "cell_type": "code",
   "execution_count": null,
   "metadata": {},
   "outputs": [],
   "source": [
    "additional_net_params = {\"grid_array\": grid_array, \"speed_limit\": 35,\n",
    "                         \"horizontal_lanes\": 1, \"vertical_lanes\": 1,\n",
    "                         \"traffic_lights\": True}\n",
    "net_params = NetParams(no_internal_links=False,\n",
    "                       additional_params=additional_net_params)\n",
    "\n",
    "scenario = SimpleGridScenario(name=\"grid\",\n",
    "                              vehicles=VehicleParams(),\n",
    "                              net_params=net_params,\n",
    "                              initial_config=InitialConfig(),\n",
    "                              traffic_lights=tl_logic)"
   ]
  },
  {
   "cell_type": "markdown",
   "metadata": {},
   "source": [
    "That's it! The traffic light logic will be passed into Flow's internals, which will generate an additional-file containing all of the information needed to generate the traffic lights you specified in the simulation."
   ]
  },
  {
   "cell_type": "markdown",
   "metadata": {},
   "source": [
    "## 3. Using the Default Traffic Light Baseline"
   ]
  },
  {
   "cell_type": "markdown",
   "metadata": {},
   "source": [
    "We have developed a traffic light baseline that can be used for any experiments on a grid. This baseline uses actuated traffic lights (section 5), and has been fine-tuned on many iterations of experiments with varying parameters. The actual parameters are located in the `TrafficLightParams` class under the getter function `actuated_default()`. For reference, these values are:"
   ]
  },
  {
   "cell_type": "code",
   "execution_count": null,
   "metadata": {},
   "outputs": [],
   "source": [
    "tl_type = \"actuated\"\n",
    "program_id = 1\n",
    "max_gap = 3.0\n",
    "detector_gap = 0.8\n",
    "show_detectors = True\n",
    "phases = [{\"duration\": \"31\", \"minDur\": \"8\", \"maxDur\": \"45\", \"state\": \"GrGr\"},\n",
    "        {\"duration\": \"6\", \"minDur\": \"3\", \"maxDur\": \"6\", \"state\": \"yryr\"},\n",
    "        {\"duration\": \"31\", \"minDur\": \"8\", \"maxDur\": \"45\", \"state\": \"rGrG\"},\n",
    "        {\"duration\": \"6\", \"minDur\": \"3\", \"maxDur\": \"6\", \"state\": \"ryry\"}]"
   ]
  },
  {
   "cell_type": "markdown",
   "metadata": {},
   "source": [
    "To view the baseline in action, simply initialize the TrafficLightParams class with the baseline argument set to True, and pass it into your `additional_net_params`. Nothing else needs to be done; no traffic lights need to be added. "
   ]
  },
  {
   "cell_type": "code",
   "execution_count": null,
   "metadata": {},
   "outputs": [],
   "source": [
    "tl_logic = TrafficLightParams(baseline=True)\n",
    "additional_net_params = {\"grid_array\": grid_array, \n",
    "                         \"speed_limit\": 35,\n",
    "                         \"horizontal_lanes\": 1, \n",
    "                         \"vertical_lanes\": 1,\n",
    "                         \"traffic_lights\": True, \n",
    "                         \"tl_logic\": tl_logic}"
   ]
  },
  {
   "cell_type": "markdown",
   "metadata": {},
   "source": [
    "## 4. Static Traffic Lights \n",
    "\n",
    "Static traffic lights are traffic lights with pre-defined phases. They cannot dynamically adjust according to traffic needs; they simply follow the same pattern repeatedly. To see static traffic lights in action, the `TrafficLightParams` object should be instantiated with `baseline=False`. \n",
    "\n",
    "When adding individual traffic lights, the following parameters in addition to `node_id` are involved:\n",
    "\n",
    "* `tls_type`:  _[optional]_ Specifies actuated or static traffic lights, defaults to static\n",
    "* `programID`:  _[optional]_ The name for this traffic light program. It cannot be the same ID as your base program, which is 0, defaults to 10\n",
    "* `offset`: _[optional]_  The initial time offset of the program\n",
    "\n",
    "An example of adding one static traffic light to our system is as follows:\n"
   ]
  },
  {
   "cell_type": "code",
   "execution_count": null,
   "metadata": {},
   "outputs": [],
   "source": [
    "tl_logic = TrafficLightParams(baseline=False)\n",
    "phases = [{\"duration\": \"31\", \"state\": \"GrGr\"},\n",
    "          {\"duration\": \"6\", \"state\": \"yryr\"},\n",
    "          {\"duration\": \"31\", \"state\": \"rGrG\"},\n",
    "          {\"duration\": \"6\", \"state\": \"ryry\"}]\n",
    "tl_logic.add(\"center0\", phases=phases, programID=1)"
   ]
  },
  {
   "cell_type": "markdown",
   "metadata": {},
   "source": [
    "## 5. Actuated Traffic Lights"
   ]
  },
  {
   "cell_type": "markdown",
   "metadata": {},
   "source": [
    "For more flexibility than the static traffic lights defined above, and more control than RL-controlled traffic lights, actuated traffic lights are a good option to consider.\n",
    "\n",
    "As an excerpt from Sumo's documentation: \"SUMO supports gap-based actuated traffic control This control scheme is common in Germany and works by prolonging traffic phases whenever a continuous stream of traffic is detected. It switches to the next phase after detecting a sufficent time gap between sucessive vehicles. This allows for better distribution of green-time among phases and also affects cycle duration in response to dynamic traffic conditions.\""
   ]
  },
  {
   "cell_type": "markdown",
   "metadata": {},
   "source": [
    "The difference between phases for static and actuated traffic lights is that actuated traffic light phases take in two additional parameters, `minDur` and `maxDur`, which describe the allowed range of time durations for each phase.\n",
    "\n",
    "In addition to these sub-parameters of `phases` and all the required parameters of static of traffic lights, the following optional parameters are involved, and default to values set by Sumo: \n",
    "\n",
    "* `maxGap`: _[optional]_ int, describes the maximum time gap between successive vehicle that will cause the current phase to be prolonged\n",
    "* `detectorGap`: _[optional]_ int, determines the time distance between the (automatically generated) detector and the stop line in seconds (at each lanes maximum speed)\n",
    "* `showDetectors`: _[optional]_ bool, toggles whether or not detectors are shown in sumo-gui\n",
    "* `file`: _[optional]_ str, which file the detector shall write results into\n",
    "* `freq`: _[optional]_ int, the period over which collected values shall be aggregated\n",
    "\n",
    "An example of adding two actuated traffic lights to our system is as follows. The first specifies more custom control, while the second specifies minimal control."
   ]
  },
  {
   "cell_type": "code",
   "execution_count": null,
   "metadata": {},
   "outputs": [],
   "source": [
    "tl_logic = TrafficLightParams(baseline=False)\n",
    "phases = [{\"duration\": \"31\", \"minDur\": \"8\", \"maxDur\": \"45\", \"state\": \"GrGr\"},\n",
    "          {\"duration\": \"6\", \"minDur\": \"3\", \"maxDur\": \"6\", \"state\": \"yryr\"},\n",
    "          {\"duration\": \"31\", \"minDur\": \"8\", \"maxDur\": \"45\", \"state\": \"rGrG\"},\n",
    "          {\"duration\": \"6\", \"minDur\": \"3\", \"maxDur\": \"6\", \"state\": \"ryry\"}]\n",
    "\n",
    "tl_logic.add(\"center1\", \n",
    "             tls_type=\"actuated\", \n",
    "             programID=\"1\", \n",
    "             phases=phases, \n",
    "             maxGap=5.0, \n",
    "             detectorGap=0.9, \n",
    "             showDetectors=False)\n",
    "\n",
    "tl_logic.add(\"center2\",\n",
    "             tls_type=\"actuated\")\n"
   ]
  },
  {
   "cell_type": "markdown",
   "metadata": {},
   "source": [
    "## 6. Controlling Your Traffic Lights via RL\n",
    "This is where we switch from the `grid.py` experiment script to `green_wave.py`. \n",
    "\n",
    "To control traffic lights via RL, no `tl_logic` element is necessary. This is because rllab is controlling all the parameters you were able to customize in the prior sections. Your `additional_net_params` should look something like this: "
   ]
  },
  {
   "cell_type": "code",
   "execution_count": null,
   "metadata": {},
   "outputs": [],
   "source": [
    "additional_net_params = {\"speed_limit\": 35, \"grid_array\": grid_array,\n",
    "                         \"horizontal_lanes\": 1, \"vertical_lanes\": 1,\n",
    "                         \"traffic_lights\": True}"
   ]
  },
  {
   "cell_type": "markdown",
   "metadata": {},
   "source": [
    "This will enable the program to recognize all nodes as traffic lights. The experiment then gives control to the environment; we are using `TrafficLightGridEnv`, which is an environment created for RL that applies RL-specified traffic light actions (e.g. change the state) via TraCI at each timestep.\n",
    "\n",
    "This is all you need to run an RL experiment! It is worth taking a look at the `TrafficLightGridEnv` class to further understanding of the experiment internals. The rest of this tutorial is an optional walkthrough through the various components of `TrafficLightGridEnv`:\n",
    "\n",
    "### Keeping Track of Traffic Light State\n",
    "\n",
    "\n",
    "Flow keeps track of the traffic light states (i.e. for each intersection, time elapsed since the last change, which direction traffic is flowing, and whether or not the traffic light is currently displaying yellow) in the following variables:\n"
   ]
  },
  {
   "cell_type": "code",
   "execution_count": null,
   "metadata": {},
   "outputs": [],
   "source": [
    "# keeps track of the last time the traffic lights in an intersection were allowed to change (the last time the lights were allowed to change from a red-green state to a red-yellow state.).\n",
    "self.last_change = np.zeros((self.rows * self.cols, 1))\n",
    "# keeps track of the direction of the intersection (the direction that is currently being allowed to flow. 0 indicates flow from top to bottom, and 1 indicates flow from left to right.)\n",
    "self.direction = np.zeros((self.rows * self.cols, 1))\n",
    "# value of 0 indicates that the intersection is in a red-yellow state. 1 indicates that the intersection is in a red-green state.\n",
    "self.currently_yellow = np.zeros((self.rows * self.cols, 1))"
   ]
  },
  {
   "cell_type": "markdown",
   "metadata": {},
   "source": [
    "* The variable `self.last_change` indicates the last time the lights were allowed to change from a red-green state to a red-yellow state.\n",
    "* The variable `self.direction` indicates the direction of the intersection, i.e. the direction that is currently being allowed to flow. 0 indicates flow from top to bottom, and 1 indicates flow from left to right.\n",
    "* The variable `self.currently_yellow` with a value of 0 indicates that the traffic light is in a red-yellow state. 1 indicates that the traffic light is in a red-green state.\n",
    "\n",
    "`self.last_change` is contingent on an instance variable `self.min_switch_time`. This is a variable that can be set in `additional_env_params` with the key name \"switch_time\". Setting switch_time enables more control over the RL experiment by preventing traffic lights from switching until `switch_time` timesteps have occurred. In practice, this can be used to prevent flickering."
   ]
  },
  {
   "cell_type": "code",
   "execution_count": null,
   "metadata": {},
   "outputs": [],
   "source": [
    "additional_env_params = {\"target_velocity\": 50, \"switch_time\": 3.0}"
   ]
  },
  {
   "cell_type": "markdown",
   "metadata": {
    "collapsed": true
   },
   "source": [
    "### Action Space"
   ]
  },
  {
   "cell_type": "markdown",
   "metadata": {},
   "source": [
    "The action space for RL-controlled traffic lights directly matches the number of traffic lights in the system. Each traffic light node corresponds to one action. The action space is thus defined as:"
   ]
  },
  {
   "cell_type": "code",
   "execution_count": null,
   "metadata": {},
   "outputs": [],
   "source": [
    "@property\n",
    "def action_space(self):\n",
    "    return Box(low=0, high=1, shape=(self.k.traffic_light.num_traffic_lights,),\n",
    "               dtype=np.float32)"
   ]
  },
  {
   "cell_type": "markdown",
   "metadata": {},
   "source": [
    "### Observation Space"
   ]
  },
  {
   "cell_type": "markdown",
   "metadata": {},
   "source": [
    "The existing observation space for our existing traffic lights experiments is designed to be a fully observable state space with these metrics in mind. For each vehicle, we want to know its velocity, its distance (in [unit]) from the next intersection, and the unique edge it is traveling on. For each traffic light, we want to know its current state (i.e. what direction it is flowing), when it last changed, and whether it was yellow. Recall that the traffic light states are encoded in `self.min_switch_time`.  "
   ]
  },
  {
   "cell_type": "code",
   "execution_count": null,
   "metadata": {},
   "outputs": [],
   "source": [
    "@property\n",
    "def observation_space(self):\n",
    "    speed = Box(low=0, high=1, shape=(self.initial_vehicles.num_vehicles,),\n",
    "                dtype=np.float32)\n",
    "    dist_to_intersec = Box(low=0., high=np.inf,\n",
    "                           shape=(self.initial_vehicles.num_vehicles,),\n",
    "                           dtype=np.float32)\n",
    "    edge_num = Box(low=0., high=1, shape=(self.initial_vehicles.num_vehicles,),\n",
    "                   dtype=np.float32)\n",
    "    traffic_lights = Box(low=0., high=np.inf,\n",
    "                         shape=(3 * self.rows * self.cols,),\n",
    "                         dtype=np.float32)\n",
    "    return Tuple((speed, dist_to_intersec, edge_num, traffic_lights))"
   ]
  },
  {
   "cell_type": "markdown",
   "metadata": {},
   "source": [
    "### State Space"
   ]
  },
  {
   "cell_type": "markdown",
   "metadata": {},
   "source": [
    "The state space collects the information that the `observation_space` specifies. There are helper functions that exist in the `TrafficLightGridEnv` to construct the state space. "
   ]
  },
  {
   "cell_type": "code",
   "execution_count": null,
   "metadata": {},
   "outputs": [],
   "source": [
    "def get_state(self):\n",
    "    # compute the normalizers\n",
    "    max_speed = self.k.scenario.max_speed()\n",
    "    grid_array = self.net_params.additional_params[\"grid_array\"]\n",
    "    max_dist = max(grid_array[\"short_length\"], \n",
    "                   grid_array[\"long_length\"],\n",
    "                   grid_array[\"inner_length\"])\n",
    "\n",
    "    # get the state arrays\n",
    "    speeds = [self.k.vehicle.get_speed(veh_id) / max_speed for veh_id in\n",
    "              self.k.vehicle.get_ids()]\n",
    "    dist_to_intersec = [self.get_distance_to_intersection(veh_id)/max_dist\n",
    "                        for veh_id in self.k.vehicle.get_ids()]\n",
    "    edges = [self._convert_edge(self.k.vehicle.get_edge(veh_id)) / (\n",
    "        self.k.scenario.num_edges - 1) for veh_id in self.k.vehicle.get_ids()]\n",
    "\n",
    "    state = [speeds, dist_to_intersec, edges,\n",
    "             self.last_change.flatten().tolist()]\n",
    "    return np.array(state)"
   ]
  },
  {
   "cell_type": "code",
   "execution_count": null,
   "metadata": {},
   "outputs": [],
   "source": []
  }
 ],
 "metadata": {
  "kernelspec": {
   "display_name": "Python 3",
   "language": "python",
   "name": "python3"
  },
  "language_info": {
   "codemirror_mode": {
    "name": "ipython",
    "version": 3
   },
   "file_extension": ".py",
   "mimetype": "text/x-python",
   "name": "python",
   "nbconvert_exporter": "python",
   "pygments_lexer": "ipython3",
   "version": "3.6.8"
  },
  "widgets": {
   "state": {},
   "version": "1.1.2"
  }
 },
 "nbformat": 4,
 "nbformat_minor": 1
}
